{
 "cells": [
  {
   "cell_type": "code",
   "execution_count": 1,
   "metadata": {},
   "outputs": [
    {
     "name": "stderr",
     "output_type": "stream",
     "text": [
      "c:\\program_code\\zeroshot-classifier\\venv\\lib\\site-packages\\tqdm\\auto.py:21: TqdmWarning: IProgress not found. Please update jupyter and ipywidgets. See https://ipywidgets.readthedocs.io/en/stable/user_install.html\n",
      "  from .autonotebook import tqdm as notebook_tqdm\n"
     ]
    }
   ],
   "source": [
    "## load packages\n",
    "import pandas as pd\n",
    "import numpy as np\n",
    "import os\n",
    "from datasets import load_dataset, Dataset, DatasetDict, concatenate_datasets\n",
    "from datasets import ClassLabel\n",
    "from sklearn.model_selection import train_test_split\n",
    "from IPython.display import display\n",
    "\n",
    "## set global seed for reproducibility and against seed hacking\n",
    "SEED_GLOBAL = 42\n",
    "np.random.seed(SEED_GLOBAL)"
   ]
  },
  {
   "cell_type": "code",
   "execution_count": null,
   "metadata": {},
   "outputs": [],
   "source": [
    "dic_datasets_train = {}\n",
    "dic_datasets_test = {}"
   ]
  },
  {
   "cell_type": "code",
   "execution_count": 35,
   "metadata": {},
   "outputs": [],
   "source": [
    "def fix_label(example: dict):\n",
    "    example['label'] = [abs(l-1) for l in example['label']]\n",
    "    return example"
   ]
  },
  {
   "cell_type": "code",
   "execution_count": null,
   "metadata": {},
   "outputs": [
    {
     "name": "stderr",
     "output_type": "stream",
     "text": [
      "Casting the dataset: 100%|██████████| 8500/8500 [00:00<00:00, 1693822.88 examples/s]\n",
      "Casting the dataset: 100%|██████████| 34000/34000 [00:00<00:00, 3777251.05 examples/s]\n"
     ]
    }
   ],
   "source": [
    "dataset_zh_nli = load_dataset('asadfgglie/nli-zh-tw-all')  # split='train'\n",
    "\n",
    "dataset_zh_nli['train'] = dataset_zh_nli['train'].rename_columns({'text1': 'premise', 'text2': 'hypothesis'})\n",
    "dataset_zh_nli['train'] = dataset_zh_nli['train'].map(fix_label, batched=True, batch_size=100)\n",
    "\n",
    "feature = dataset_zh_nli['train'].features.copy()\n",
    "feature['label'] = ClassLabel(names=[\"entailment\", \"not_entailment\"])\n",
    "\n",
    "dataset_zh_nli['train'], dataset_zh_nli['test'] = train_test_split(dataset_zh_nli['train'], train_size=0.8, test_size=0.2, random_state=SEED_GLOBAL)\n",
    "dataset_zh_nli['test'] = Dataset.from_dict(dataset_zh_nli['test']).cast(feature)\n",
    "dataset_zh_nli['train'] = Dataset.from_dict(dataset_zh_nli['train']).cast(feature)"
   ]
  },
  {
   "cell_type": "code",
   "execution_count": 43,
   "metadata": {},
   "outputs": [
    {
     "name": "stderr",
     "output_type": "stream",
     "text": [
      "Creating parquet from Arrow format: 100%|██████████| 34/34 [00:00<00:00, 539.69ba/s]\n",
      "Pushing dataset shards to the dataset hub: 100%|██████████| 1/1 [00:02<00:00,  2.98s/it]\n",
      "Deleting unused files from dataset repository: 100%|██████████| 1/1 [00:00<00:00,  2.68it/s]\n",
      "Creating parquet from Arrow format: 100%|██████████| 9/9 [00:00<00:00, 600.05ba/s]\n",
      "Pushing dataset shards to the dataset hub: 100%|██████████| 1/1 [00:02<00:00,  2.71s/it]\n",
      "Downloading metadata: 100%|██████████| 643/643 [00:00<?, ?B/s] \n"
     ]
    }
   ],
   "source": [
    "dataset_zh_nli.push_to_hub('asadfgglie/nli-zh-tw-all')"
   ]
  },
  {
   "cell_type": "code",
   "execution_count": 33,
   "metadata": {},
   "outputs": [
    {
     "data": {
      "text/plain": [
       "DatasetDict({\n",
       "    train: Dataset({\n",
       "        features: ['premise', 'hypothesis', 'label'],\n",
       "        num_rows: 34000\n",
       "    })\n",
       "    test: Dataset({\n",
       "        features: ['premise', 'hypothesis', 'label'],\n",
       "        num_rows: 8500\n",
       "    })\n",
       "})"
      ]
     },
     "execution_count": 33,
     "metadata": {},
     "output_type": "execute_result"
    }
   ],
   "source": [
    "dataset_zh_nli"
   ]
  },
  {
   "cell_type": "code",
   "execution_count": 2,
   "metadata": {},
   "outputs": [
    {
     "name": "stderr",
     "output_type": "stream",
     "text": [
      "Downloading readme: 100%|██████████| 527/527 [00:00<?, ?B/s] \n",
      "Downloading data: 100%|██████████| 84.6k/84.6k [00:00<00:00, 127kB/s]\n",
      "Downloading data files: 100%|██████████| 1/1 [00:00<00:00,  1.48it/s]\n",
      "Extracting data files: 100%|██████████| 1/1 [00:00<00:00, 181.41it/s]\n",
      "Generating train split: 100%|██████████| 1441/1441 [00:00<00:00, 57888.76 examples/s]\n"
     ]
    }
   ],
   "source": [
    "dataset = load_dataset('asadfgglie/BanBan_2024-10-17-facial_expressions')['train']"
   ]
  },
  {
   "cell_type": "code",
   "execution_count": 6,
   "metadata": {},
   "outputs": [],
   "source": [
    "template = '這是一句會使用{}表情說出來的話。'\n",
    "def convert():\n",
    "    for ex in dataset:\n",
    "        for entail_label in ex['candidate_labels']:\n",
    "            yield {\n",
    "                'premise': ex['sequences'],\n",
    "                'hypothesis': template.format(entail_label),\n",
    "                'label': 0\n",
    "            }\n",
    "        for not_entail_label in ex['not_candidate_labels']:\n",
    "            yield {\n",
    "                'premise': ex['sequences'],\n",
    "                'hypothesis': template.format(not_entail_label),\n",
    "                'label': 1\n",
    "            }"
   ]
  },
  {
   "cell_type": "code",
   "execution_count": 4,
   "metadata": {},
   "outputs": [],
   "source": [
    "features = load_dataset('asadfgglie/nli-zh-tw-all')['train'].features"
   ]
  },
  {
   "cell_type": "code",
   "execution_count": 8,
   "metadata": {},
   "outputs": [
    {
     "name": "stderr",
     "output_type": "stream",
     "text": [
      "Generating train split: 4726 examples [00:00, 25284.49 examples/s]\n",
      "Creating parquet from Arrow format: 100%|██████████| 5/5 [00:00<00:00, 1630.50ba/s]\n",
      "Pushing dataset shards to the dataset hub: 100%|██████████| 1/1 [00:02<00:00,  2.63s/it]\n"
     ]
    }
   ],
   "source": [
    "nli = Dataset.from_generator(convert, features)\n",
    "nli.push_to_hub('asadfgglie/BanBan_2024-10-17-facial_expressions-nli')"
   ]
  }
 ],
 "metadata": {
  "kernelspec": {
   "display_name": "venv",
   "language": "python",
   "name": "python3"
  },
  "language_info": {
   "codemirror_mode": {
    "name": "ipython",
    "version": 3
   },
   "file_extension": ".py",
   "mimetype": "text/x-python",
   "name": "python",
   "nbconvert_exporter": "python",
   "pygments_lexer": "ipython3",
   "version": "3.9.13"
  }
 },
 "nbformat": 4,
 "nbformat_minor": 2
}
